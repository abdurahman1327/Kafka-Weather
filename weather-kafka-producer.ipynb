{
 "cells": [
  {
   "cell_type": "code",
   "execution_count": 1,
   "id": "9d6d0d10",
   "metadata": {},
   "outputs": [],
   "source": [
    "import pandas as pd\n",
    "from kafka import KafkaProducer\n",
    "from time import sleep\n",
    "from json import dumps\n",
    "import json"
   ]
  },
  {
   "cell_type": "code",
   "execution_count": 2,
   "id": "f7def619",
   "metadata": {},
   "outputs": [
    {
     "ename": "NoBrokersAvailable",
     "evalue": "NoBrokersAvailable",
     "output_type": "error",
     "traceback": [
      "\u001b[0;31m---------------------------------------------------------------------------\u001b[0m",
      "\u001b[0;31mNoBrokersAvailable\u001b[0m                        Traceback (most recent call last)",
      "Cell \u001b[0;32mIn[2], line 1\u001b[0m\n\u001b[0;32m----> 1\u001b[0m producer \u001b[38;5;241m=\u001b[39m KafkaProducer(bootstrap_servers\u001b[38;5;241m=\u001b[39m[\u001b[38;5;124m'\u001b[39m\u001b[38;5;124m:9092\u001b[39m\u001b[38;5;124m'\u001b[39m], \u001b[38;5;66;03m#change ip here\u001b[39;00m\n\u001b[1;32m      2\u001b[0m                          value_serializer\u001b[38;5;241m=\u001b[39m\u001b[38;5;28;01mlambda\u001b[39;00m x: \n\u001b[1;32m      3\u001b[0m                          dumps(x)\u001b[38;5;241m.\u001b[39mencode(\u001b[38;5;124m'\u001b[39m\u001b[38;5;124mutf-8\u001b[39m\u001b[38;5;124m'\u001b[39m))\n",
      "File \u001b[0;32m~/anaconda3/lib/python3.11/site-packages/kafka/producer/kafka.py:381\u001b[0m, in \u001b[0;36mKafkaProducer.__init__\u001b[0;34m(self, **configs)\u001b[0m\n\u001b[1;32m    378\u001b[0m reporters \u001b[38;5;241m=\u001b[39m [reporter() \u001b[38;5;28;01mfor\u001b[39;00m reporter \u001b[38;5;129;01min\u001b[39;00m \u001b[38;5;28mself\u001b[39m\u001b[38;5;241m.\u001b[39mconfig[\u001b[38;5;124m'\u001b[39m\u001b[38;5;124mmetric_reporters\u001b[39m\u001b[38;5;124m'\u001b[39m]]\n\u001b[1;32m    379\u001b[0m \u001b[38;5;28mself\u001b[39m\u001b[38;5;241m.\u001b[39m_metrics \u001b[38;5;241m=\u001b[39m Metrics(metric_config, reporters)\n\u001b[0;32m--> 381\u001b[0m client \u001b[38;5;241m=\u001b[39m KafkaClient(metrics\u001b[38;5;241m=\u001b[39m\u001b[38;5;28mself\u001b[39m\u001b[38;5;241m.\u001b[39m_metrics, metric_group_prefix\u001b[38;5;241m=\u001b[39m\u001b[38;5;124m'\u001b[39m\u001b[38;5;124mproducer\u001b[39m\u001b[38;5;124m'\u001b[39m,\n\u001b[1;32m    382\u001b[0m                      wakeup_timeout_ms\u001b[38;5;241m=\u001b[39m\u001b[38;5;28mself\u001b[39m\u001b[38;5;241m.\u001b[39mconfig[\u001b[38;5;124m'\u001b[39m\u001b[38;5;124mmax_block_ms\u001b[39m\u001b[38;5;124m'\u001b[39m],\n\u001b[1;32m    383\u001b[0m                      \u001b[38;5;241m*\u001b[39m\u001b[38;5;241m*\u001b[39m\u001b[38;5;28mself\u001b[39m\u001b[38;5;241m.\u001b[39mconfig)\n\u001b[1;32m    385\u001b[0m \u001b[38;5;66;03m# Get auto-discovered version from client if necessary\u001b[39;00m\n\u001b[1;32m    386\u001b[0m \u001b[38;5;28;01mif\u001b[39;00m \u001b[38;5;28mself\u001b[39m\u001b[38;5;241m.\u001b[39mconfig[\u001b[38;5;124m'\u001b[39m\u001b[38;5;124mapi_version\u001b[39m\u001b[38;5;124m'\u001b[39m] \u001b[38;5;129;01mis\u001b[39;00m \u001b[38;5;28;01mNone\u001b[39;00m:\n",
      "File \u001b[0;32m~/anaconda3/lib/python3.11/site-packages/kafka/client_async.py:244\u001b[0m, in \u001b[0;36mKafkaClient.__init__\u001b[0;34m(self, **configs)\u001b[0m\n\u001b[1;32m    242\u001b[0m \u001b[38;5;28;01mif\u001b[39;00m \u001b[38;5;28mself\u001b[39m\u001b[38;5;241m.\u001b[39mconfig[\u001b[38;5;124m'\u001b[39m\u001b[38;5;124mapi_version\u001b[39m\u001b[38;5;124m'\u001b[39m] \u001b[38;5;129;01mis\u001b[39;00m \u001b[38;5;28;01mNone\u001b[39;00m:\n\u001b[1;32m    243\u001b[0m     check_timeout \u001b[38;5;241m=\u001b[39m \u001b[38;5;28mself\u001b[39m\u001b[38;5;241m.\u001b[39mconfig[\u001b[38;5;124m'\u001b[39m\u001b[38;5;124mapi_version_auto_timeout_ms\u001b[39m\u001b[38;5;124m'\u001b[39m] \u001b[38;5;241m/\u001b[39m \u001b[38;5;241m1000\u001b[39m\n\u001b[0;32m--> 244\u001b[0m     \u001b[38;5;28mself\u001b[39m\u001b[38;5;241m.\u001b[39mconfig[\u001b[38;5;124m'\u001b[39m\u001b[38;5;124mapi_version\u001b[39m\u001b[38;5;124m'\u001b[39m] \u001b[38;5;241m=\u001b[39m \u001b[38;5;28mself\u001b[39m\u001b[38;5;241m.\u001b[39mcheck_version(timeout\u001b[38;5;241m=\u001b[39mcheck_timeout)\n",
      "File \u001b[0;32m~/anaconda3/lib/python3.11/site-packages/kafka/client_async.py:900\u001b[0m, in \u001b[0;36mKafkaClient.check_version\u001b[0;34m(self, node_id, timeout, strict)\u001b[0m\n\u001b[1;32m    898\u001b[0m \u001b[38;5;28;01mif\u001b[39;00m try_node \u001b[38;5;129;01mis\u001b[39;00m \u001b[38;5;28;01mNone\u001b[39;00m:\n\u001b[1;32m    899\u001b[0m     \u001b[38;5;28mself\u001b[39m\u001b[38;5;241m.\u001b[39m_lock\u001b[38;5;241m.\u001b[39mrelease()\n\u001b[0;32m--> 900\u001b[0m     \u001b[38;5;28;01mraise\u001b[39;00m Errors\u001b[38;5;241m.\u001b[39mNoBrokersAvailable()\n\u001b[1;32m    901\u001b[0m \u001b[38;5;28mself\u001b[39m\u001b[38;5;241m.\u001b[39m_maybe_connect(try_node)\n\u001b[1;32m    902\u001b[0m conn \u001b[38;5;241m=\u001b[39m \u001b[38;5;28mself\u001b[39m\u001b[38;5;241m.\u001b[39m_conns[try_node]\n",
      "\u001b[0;31mNoBrokersAvailable\u001b[0m: NoBrokersAvailable"
     ]
    }
   ],
   "source": [
    "producer = KafkaProducer(bootstrap_servers=[':9092'], #change ip here\n",
    "                         value_serializer=lambda x: \n",
    "                         dumps(x).encode('utf-8'))"
   ]
  },
  {
   "cell_type": "code",
   "execution_count": 3,
   "id": "97540e04",
   "metadata": {},
   "outputs": [
    {
     "ename": "NameError",
     "evalue": "name 'producer' is not defined",
     "output_type": "error",
     "traceback": [
      "\u001b[0;31m---------------------------------------------------------------------------\u001b[0m",
      "\u001b[0;31mNameError\u001b[0m                                 Traceback (most recent call last)",
      "Cell \u001b[0;32mIn[3], line 1\u001b[0m\n\u001b[0;32m----> 1\u001b[0m producer\u001b[38;5;241m.\u001b[39msend(\u001b[38;5;124m'\u001b[39m\u001b[38;5;124mdemo_test\u001b[39m\u001b[38;5;124m'\u001b[39m, value\u001b[38;5;241m=\u001b[39m{\u001b[38;5;124m'\u001b[39m\u001b[38;5;124msurnasdasdame\u001b[39m\u001b[38;5;124m'\u001b[39m:\u001b[38;5;124m'\u001b[39m\u001b[38;5;124mparasdasdmar\u001b[39m\u001b[38;5;124m'\u001b[39m})\n",
      "\u001b[0;31mNameError\u001b[0m: name 'producer' is not defined"
     ]
    }
   ],
   "source": [
    "producer.send('demo_test', value={'surnasdasdame':'parasdasdmar'})"
   ]
  },
  {
   "cell_type": "code",
   "execution_count": 4,
   "id": "9379b3d9",
   "metadata": {},
   "outputs": [],
   "source": [
    "df = pd.read_csv(\"monthly_global_max.csv\")"
   ]
  },
  {
   "cell_type": "code",
   "execution_count": 5,
   "id": "249c747a",
   "metadata": {},
   "outputs": [
    {
     "data": {
      "text/html": [
       "<div>\n",
       "<style scoped>\n",
       "    .dataframe tbody tr th:only-of-type {\n",
       "        vertical-align: middle;\n",
       "    }\n",
       "\n",
       "    .dataframe tbody tr th {\n",
       "        vertical-align: top;\n",
       "    }\n",
       "\n",
       "    .dataframe thead th {\n",
       "        text-align: right;\n",
       "    }\n",
       "</style>\n",
       "<table border=\"1\" class=\"dataframe\">\n",
       "  <thead>\n",
       "    <tr style=\"text-align: right;\">\n",
       "      <th></th>\n",
       "      <th>OID</th>\n",
       "      <th>tmax December</th>\n",
       "      <th>tmax January</th>\n",
       "      <th>tmax February</th>\n",
       "      <th>tmax March</th>\n",
       "      <th>tmax April</th>\n",
       "      <th>tmax May</th>\n",
       "      <th>tmax June</th>\n",
       "      <th>tmax July</th>\n",
       "      <th>tmax August</th>\n",
       "      <th>tmax September</th>\n",
       "      <th>tmax October</th>\n",
       "      <th>tmax November</th>\n",
       "      <th>Shape__Area</th>\n",
       "      <th>Shape__Length</th>\n",
       "    </tr>\n",
       "  </thead>\n",
       "  <tbody>\n",
       "    <tr>\n",
       "      <th>0</th>\n",
       "      <td>26981</td>\n",
       "      <td>11.934262</td>\n",
       "      <td>12.731049</td>\n",
       "      <td>12.330565</td>\n",
       "      <td>10.824688</td>\n",
       "      <td>8.726662</td>\n",
       "      <td>6.283948</td>\n",
       "      <td>4.209981</td>\n",
       "      <td>4.125992</td>\n",
       "      <td>5.320441</td>\n",
       "      <td>7.079730</td>\n",
       "      <td>9.160709</td>\n",
       "      <td>10.573723</td>\n",
       "      <td>0.462963</td>\n",
       "      <td>2.777778</td>\n",
       "    </tr>\n",
       "    <tr>\n",
       "      <th>1</th>\n",
       "      <td>27411</td>\n",
       "      <td>11.006070</td>\n",
       "      <td>11.682851</td>\n",
       "      <td>11.091412</td>\n",
       "      <td>9.841140</td>\n",
       "      <td>7.754827</td>\n",
       "      <td>5.490396</td>\n",
       "      <td>3.719779</td>\n",
       "      <td>3.516275</td>\n",
       "      <td>4.294390</td>\n",
       "      <td>6.094430</td>\n",
       "      <td>8.201740</td>\n",
       "      <td>9.540470</td>\n",
       "      <td>0.462963</td>\n",
       "      <td>2.777778</td>\n",
       "    </tr>\n",
       "    <tr>\n",
       "      <th>2</th>\n",
       "      <td>27412</td>\n",
       "      <td>10.040694</td>\n",
       "      <td>10.704951</td>\n",
       "      <td>10.087384</td>\n",
       "      <td>8.744941</td>\n",
       "      <td>6.661697</td>\n",
       "      <td>4.269543</td>\n",
       "      <td>2.256088</td>\n",
       "      <td>2.131528</td>\n",
       "      <td>3.038448</td>\n",
       "      <td>5.004485</td>\n",
       "      <td>7.162089</td>\n",
       "      <td>8.678166</td>\n",
       "      <td>0.462963</td>\n",
       "      <td>2.777778</td>\n",
       "    </tr>\n",
       "    <tr>\n",
       "      <th>3</th>\n",
       "      <td>27413</td>\n",
       "      <td>11.186890</td>\n",
       "      <td>11.845022</td>\n",
       "      <td>11.276678</td>\n",
       "      <td>9.801791</td>\n",
       "      <td>7.638330</td>\n",
       "      <td>4.963131</td>\n",
       "      <td>2.846345</td>\n",
       "      <td>2.722611</td>\n",
       "      <td>3.946722</td>\n",
       "      <td>5.989307</td>\n",
       "      <td>8.207634</td>\n",
       "      <td>9.762653</td>\n",
       "      <td>0.462963</td>\n",
       "      <td>2.777778</td>\n",
       "    </tr>\n",
       "    <tr>\n",
       "      <th>4</th>\n",
       "      <td>27414</td>\n",
       "      <td>11.946646</td>\n",
       "      <td>12.753782</td>\n",
       "      <td>12.155747</td>\n",
       "      <td>10.543756</td>\n",
       "      <td>8.330193</td>\n",
       "      <td>5.485218</td>\n",
       "      <td>3.124533</td>\n",
       "      <td>3.108171</td>\n",
       "      <td>4.609139</td>\n",
       "      <td>6.544107</td>\n",
       "      <td>8.922245</td>\n",
       "      <td>10.510126</td>\n",
       "      <td>0.462963</td>\n",
       "      <td>2.777778</td>\n",
       "    </tr>\n",
       "  </tbody>\n",
       "</table>\n",
       "</div>"
      ],
      "text/plain": [
       "     OID  tmax December  tmax January  tmax February  tmax March  tmax April  \\\n",
       "0  26981      11.934262     12.731049      12.330565   10.824688    8.726662   \n",
       "1  27411      11.006070     11.682851      11.091412    9.841140    7.754827   \n",
       "2  27412      10.040694     10.704951      10.087384    8.744941    6.661697   \n",
       "3  27413      11.186890     11.845022      11.276678    9.801791    7.638330   \n",
       "4  27414      11.946646     12.753782      12.155747   10.543756    8.330193   \n",
       "\n",
       "   tmax May  tmax June  tmax July  tmax August  tmax September  tmax October  \\\n",
       "0  6.283948   4.209981   4.125992     5.320441        7.079730      9.160709   \n",
       "1  5.490396   3.719779   3.516275     4.294390        6.094430      8.201740   \n",
       "2  4.269543   2.256088   2.131528     3.038448        5.004485      7.162089   \n",
       "3  4.963131   2.846345   2.722611     3.946722        5.989307      8.207634   \n",
       "4  5.485218   3.124533   3.108171     4.609139        6.544107      8.922245   \n",
       "\n",
       "   tmax November  Shape__Area  Shape__Length  \n",
       "0      10.573723     0.462963       2.777778  \n",
       "1       9.540470     0.462963       2.777778  \n",
       "2       8.678166     0.462963       2.777778  \n",
       "3       9.762653     0.462963       2.777778  \n",
       "4      10.510126     0.462963       2.777778  "
      ]
     },
     "execution_count": 5,
     "metadata": {},
     "output_type": "execute_result"
    }
   ],
   "source": [
    "df.head()"
   ]
  },
  {
   "cell_type": "code",
   "execution_count": null,
   "id": "081e18c1",
   "metadata": {},
   "outputs": [],
   "source": [
    "while True:\n",
    "    dict_stock = df.sample(1).to_dict(orient=\"records\")[0]\n",
    "    producer.send('demo_test', value=dict_stock)\n",
    "    sleep(1)"
   ]
  },
  {
   "cell_type": "code",
   "execution_count": null,
   "id": "9ab77cec",
   "metadata": {},
   "outputs": [],
   "source": [
    "producer.flush() #clear data from kafka server"
   ]
  }
 ],
 "metadata": {
  "kernelspec": {
   "display_name": "Python 3 (ipykernel)",
   "language": "python",
   "name": "python3"
  },
  "language_info": {
   "codemirror_mode": {
    "name": "ipython",
    "version": 3
   },
   "file_extension": ".py",
   "mimetype": "text/x-python",
   "name": "python",
   "nbconvert_exporter": "python",
   "pygments_lexer": "ipython3",
   "version": "3.11.4"
  }
 },
 "nbformat": 4,
 "nbformat_minor": 5
}
